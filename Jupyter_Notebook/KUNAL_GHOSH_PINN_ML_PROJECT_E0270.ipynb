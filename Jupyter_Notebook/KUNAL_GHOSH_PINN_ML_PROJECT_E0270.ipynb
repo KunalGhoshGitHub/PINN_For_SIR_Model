{
 "cells": [
  {
   "cell_type": "markdown",
   "id": "b4d6c921",
   "metadata": {},
   "source": [
    "# Name: Kunal Ghosh"
   ]
  },
  {
   "cell_type": "markdown",
   "id": "baf3d410",
   "metadata": {},
   "source": [
    "# Course: M.Tech (Aerospace Engineering)"
   ]
  },
  {
   "cell_type": "markdown",
   "id": "2f76a4ff",
   "metadata": {},
   "source": [
    "# Subject: Machine Learning (E0-270)"
   ]
  },
  {
   "cell_type": "markdown",
   "id": "bb1f42af",
   "metadata": {},
   "source": [
    "# SAP No.: 6000007645"
   ]
  },
  {
   "cell_type": "markdown",
   "id": "fbc9d4ae",
   "metadata": {},
   "source": [
    "# S.R. No.: 05-01-00-10-42-22-1-21061"
   ]
  },
  {
   "cell_type": "markdown",
   "id": "76cea3dd",
   "metadata": {},
   "source": [
    "*****************************************************"
   ]
  },
  {
   "cell_type": "markdown",
   "id": "d6d275f3",
   "metadata": {
    "colab_type": "text",
    "id": "xSItPJipBaZ5"
   },
   "source": [
    "# Importing the required Libraries"
   ]
  },
  {
   "cell_type": "code",
   "execution_count": 1,
   "id": "ca149979",
   "metadata": {
    "colab": {},
    "colab_type": "code",
    "id": "wb-Z7wNKUJko",
    "scrolled": true
   },
   "outputs": [],
   "source": [
    "import numpy as np"
   ]
  },
  {
   "cell_type": "code",
   "execution_count": 2,
   "id": "2ef3bf5f",
   "metadata": {
    "colab": {},
    "colab_type": "code",
    "id": "wb-Z7wNKUJko",
    "scrolled": true
   },
   "outputs": [],
   "source": [
    "import torch"
   ]
  },
  {
   "cell_type": "code",
   "execution_count": 3,
   "id": "91636cac",
   "metadata": {
    "colab": {},
    "colab_type": "code",
    "id": "wb-Z7wNKUJko",
    "scrolled": true
   },
   "outputs": [],
   "source": [
    "import torch.nn as nn"
   ]
  },
  {
   "cell_type": "code",
   "execution_count": 4,
   "id": "46caab98",
   "metadata": {
    "colab": {},
    "colab_type": "code",
    "id": "wb-Z7wNKUJko",
    "scrolled": true
   },
   "outputs": [],
   "source": [
    "import torch.optim as optim"
   ]
  },
  {
   "cell_type": "code",
   "execution_count": 5,
   "id": "c9ea59db",
   "metadata": {
    "colab": {},
    "colab_type": "code",
    "id": "wb-Z7wNKUJko",
    "scrolled": true
   },
   "outputs": [],
   "source": [
    "from torch.autograd import Variable"
   ]
  },
  {
   "cell_type": "code",
   "execution_count": 6,
   "id": "7c63c5ed",
   "metadata": {},
   "outputs": [],
   "source": [
    "from sklearn.preprocessing import MinMaxScaler"
   ]
  },
  {
   "cell_type": "code",
   "execution_count": 7,
   "id": "6c073c8d",
   "metadata": {
    "colab": {},
    "colab_type": "code",
    "id": "wb-Z7wNKUJko",
    "scrolled": true
   },
   "outputs": [],
   "source": [
    "import matplotlib.pyplot as plt"
   ]
  },
  {
   "cell_type": "code",
   "execution_count": 8,
   "id": "7ea06f2c",
   "metadata": {
    "colab": {},
    "colab_type": "code",
    "id": "wb-Z7wNKUJko",
    "scrolled": true
   },
   "outputs": [],
   "source": [
    "import pandas as pd"
   ]
  },
  {
   "cell_type": "markdown",
   "id": "0aa38155",
   "metadata": {
    "colab_type": "text",
    "id": "e31mswiSBEEB"
   },
   "source": [
    "## Reading the data from the file"
   ]
  },
  {
   "cell_type": "code",
   "execution_count": 9,
   "id": "9efae498",
   "metadata": {
    "colab": {
     "base_uri": "https://localhost:8080/",
     "height": 269
    },
    "colab_type": "code",
    "id": "ooQPXSYhA_ps",
    "outputId": "5b7b33c9-a80c-429d-f8a5-5c8c79261b54",
    "scrolled": false
   },
   "outputs": [],
   "source": [
    "Training_Set = pd.read_csv('Canada.csv')"
   ]
  },
  {
   "cell_type": "markdown",
   "id": "53c5fab8",
   "metadata": {},
   "source": [
    "## Displaying the training set"
   ]
  },
  {
   "cell_type": "code",
   "execution_count": 10,
   "id": "075f158f",
   "metadata": {},
   "outputs": [
    {
     "data": {
      "text/html": [
       "<div>\n",
       "<style scoped>\n",
       "    .dataframe tbody tr th:only-of-type {\n",
       "        vertical-align: middle;\n",
       "    }\n",
       "\n",
       "    .dataframe tbody tr th {\n",
       "        vertical-align: top;\n",
       "    }\n",
       "\n",
       "    .dataframe thead th {\n",
       "        text-align: right;\n",
       "    }\n",
       "</style>\n",
       "<table border=\"1\" class=\"dataframe\">\n",
       "  <thead>\n",
       "    <tr style=\"text-align: right;\">\n",
       "      <th></th>\n",
       "      <th>Date</th>\n",
       "      <th>T_idx</th>\n",
       "      <th>N</th>\n",
       "      <th>D</th>\n",
       "      <th>S</th>\n",
       "      <th>I</th>\n",
       "      <th>R</th>\n",
       "    </tr>\n",
       "  </thead>\n",
       "  <tbody>\n",
       "    <tr>\n",
       "      <th>0</th>\n",
       "      <td>2020-01-22</td>\n",
       "      <td>0</td>\n",
       "      <td>37799407</td>\n",
       "      <td>0</td>\n",
       "      <td>37799407</td>\n",
       "      <td>0</td>\n",
       "      <td>0</td>\n",
       "    </tr>\n",
       "    <tr>\n",
       "      <th>1</th>\n",
       "      <td>2020-01-23</td>\n",
       "      <td>1</td>\n",
       "      <td>37799407</td>\n",
       "      <td>0</td>\n",
       "      <td>37799407</td>\n",
       "      <td>0</td>\n",
       "      <td>0</td>\n",
       "    </tr>\n",
       "    <tr>\n",
       "      <th>2</th>\n",
       "      <td>2020-01-24</td>\n",
       "      <td>2</td>\n",
       "      <td>37799407</td>\n",
       "      <td>0</td>\n",
       "      <td>37799407</td>\n",
       "      <td>0</td>\n",
       "      <td>0</td>\n",
       "    </tr>\n",
       "    <tr>\n",
       "      <th>3</th>\n",
       "      <td>2020-01-25</td>\n",
       "      <td>3</td>\n",
       "      <td>37799407</td>\n",
       "      <td>0</td>\n",
       "      <td>37799407</td>\n",
       "      <td>0</td>\n",
       "      <td>0</td>\n",
       "    </tr>\n",
       "    <tr>\n",
       "      <th>4</th>\n",
       "      <td>2020-01-26</td>\n",
       "      <td>4</td>\n",
       "      <td>37799407</td>\n",
       "      <td>0</td>\n",
       "      <td>37799406</td>\n",
       "      <td>1</td>\n",
       "      <td>0</td>\n",
       "    </tr>\n",
       "    <tr>\n",
       "      <th>...</th>\n",
       "      <td>...</td>\n",
       "      <td>...</td>\n",
       "      <td>...</td>\n",
       "      <td>...</td>\n",
       "      <td>...</td>\n",
       "      <td>...</td>\n",
       "      <td>...</td>\n",
       "    </tr>\n",
       "    <tr>\n",
       "      <th>183</th>\n",
       "      <td>2020-07-23</td>\n",
       "      <td>183</td>\n",
       "      <td>37799407</td>\n",
       "      <td>8918</td>\n",
       "      <td>37685022</td>\n",
       "      <td>105467</td>\n",
       "      <td>8918</td>\n",
       "    </tr>\n",
       "    <tr>\n",
       "      <th>184</th>\n",
       "      <td>2020-07-24</td>\n",
       "      <td>184</td>\n",
       "      <td>37799407</td>\n",
       "      <td>8922</td>\n",
       "      <td>37684305</td>\n",
       "      <td>106180</td>\n",
       "      <td>8922</td>\n",
       "    </tr>\n",
       "    <tr>\n",
       "      <th>185</th>\n",
       "      <td>2020-07-25</td>\n",
       "      <td>185</td>\n",
       "      <td>37799407</td>\n",
       "      <td>8928</td>\n",
       "      <td>37683950</td>\n",
       "      <td>106529</td>\n",
       "      <td>8928</td>\n",
       "    </tr>\n",
       "    <tr>\n",
       "      <th>186</th>\n",
       "      <td>2020-07-26</td>\n",
       "      <td>186</td>\n",
       "      <td>37799407</td>\n",
       "      <td>8933</td>\n",
       "      <td>37683631</td>\n",
       "      <td>106843</td>\n",
       "      <td>8933</td>\n",
       "    </tr>\n",
       "    <tr>\n",
       "      <th>187</th>\n",
       "      <td>2020-07-27</td>\n",
       "      <td>187</td>\n",
       "      <td>37799407</td>\n",
       "      <td>8944</td>\n",
       "      <td>37682949</td>\n",
       "      <td>107514</td>\n",
       "      <td>8944</td>\n",
       "    </tr>\n",
       "  </tbody>\n",
       "</table>\n",
       "<p>188 rows × 7 columns</p>\n",
       "</div>"
      ],
      "text/plain": [
       "           Date  T_idx         N     D         S       I     R\n",
       "0    2020-01-22      0  37799407     0  37799407       0     0\n",
       "1    2020-01-23      1  37799407     0  37799407       0     0\n",
       "2    2020-01-24      2  37799407     0  37799407       0     0\n",
       "3    2020-01-25      3  37799407     0  37799407       0     0\n",
       "4    2020-01-26      4  37799407     0  37799406       1     0\n",
       "..          ...    ...       ...   ...       ...     ...   ...\n",
       "183  2020-07-23    183  37799407  8918  37685022  105467  8918\n",
       "184  2020-07-24    184  37799407  8922  37684305  106180  8922\n",
       "185  2020-07-25    185  37799407  8928  37683950  106529  8928\n",
       "186  2020-07-26    186  37799407  8933  37683631  106843  8933\n",
       "187  2020-07-27    187  37799407  8944  37682949  107514  8944\n",
       "\n",
       "[188 rows x 7 columns]"
      ]
     },
     "execution_count": 10,
     "metadata": {},
     "output_type": "execute_result"
    }
   ],
   "source": [
    "Training_Set"
   ]
  },
  {
   "cell_type": "markdown",
   "id": "c40f34e7",
   "metadata": {},
   "source": [
    "## Factor N, Factor S, Factor I and Factor R will be used in  PINNs"
   ]
  },
  {
   "cell_type": "markdown",
   "id": "769879b2",
   "metadata": {},
   "source": [
    "## Factor N"
   ]
  },
  {
   "cell_type": "code",
   "execution_count": 11,
   "id": "5440885b",
   "metadata": {},
   "outputs": [
    {
     "data": {
      "text/plain": [
       "37799407"
      ]
     },
     "execution_count": 11,
     "metadata": {},
     "output_type": "execute_result"
    }
   ],
   "source": [
    "Factor = Training_Set.to_numpy()\n",
    "Factor_N = max(Factor[:,2])\n",
    "Factor_N"
   ]
  },
  {
   "cell_type": "markdown",
   "id": "190c4b1a",
   "metadata": {},
   "source": [
    "## Dropping the columns of data which will NOT be used in training the Neural Network"
   ]
  },
  {
   "cell_type": "code",
   "execution_count": 12,
   "id": "1454c6c0",
   "metadata": {
    "scrolled": false
   },
   "outputs": [
    {
     "data": {
      "text/html": [
       "<div>\n",
       "<style scoped>\n",
       "    .dataframe tbody tr th:only-of-type {\n",
       "        vertical-align: middle;\n",
       "    }\n",
       "\n",
       "    .dataframe tbody tr th {\n",
       "        vertical-align: top;\n",
       "    }\n",
       "\n",
       "    .dataframe thead th {\n",
       "        text-align: right;\n",
       "    }\n",
       "</style>\n",
       "<table border=\"1\" class=\"dataframe\">\n",
       "  <thead>\n",
       "    <tr style=\"text-align: right;\">\n",
       "      <th></th>\n",
       "      <th>S</th>\n",
       "      <th>I</th>\n",
       "      <th>R</th>\n",
       "    </tr>\n",
       "  </thead>\n",
       "  <tbody>\n",
       "    <tr>\n",
       "      <th>0</th>\n",
       "      <td>37799407</td>\n",
       "      <td>0</td>\n",
       "      <td>0</td>\n",
       "    </tr>\n",
       "    <tr>\n",
       "      <th>1</th>\n",
       "      <td>37799407</td>\n",
       "      <td>0</td>\n",
       "      <td>0</td>\n",
       "    </tr>\n",
       "    <tr>\n",
       "      <th>2</th>\n",
       "      <td>37799407</td>\n",
       "      <td>0</td>\n",
       "      <td>0</td>\n",
       "    </tr>\n",
       "    <tr>\n",
       "      <th>3</th>\n",
       "      <td>37799407</td>\n",
       "      <td>0</td>\n",
       "      <td>0</td>\n",
       "    </tr>\n",
       "    <tr>\n",
       "      <th>4</th>\n",
       "      <td>37799406</td>\n",
       "      <td>1</td>\n",
       "      <td>0</td>\n",
       "    </tr>\n",
       "    <tr>\n",
       "      <th>...</th>\n",
       "      <td>...</td>\n",
       "      <td>...</td>\n",
       "      <td>...</td>\n",
       "    </tr>\n",
       "    <tr>\n",
       "      <th>183</th>\n",
       "      <td>37685022</td>\n",
       "      <td>105467</td>\n",
       "      <td>8918</td>\n",
       "    </tr>\n",
       "    <tr>\n",
       "      <th>184</th>\n",
       "      <td>37684305</td>\n",
       "      <td>106180</td>\n",
       "      <td>8922</td>\n",
       "    </tr>\n",
       "    <tr>\n",
       "      <th>185</th>\n",
       "      <td>37683950</td>\n",
       "      <td>106529</td>\n",
       "      <td>8928</td>\n",
       "    </tr>\n",
       "    <tr>\n",
       "      <th>186</th>\n",
       "      <td>37683631</td>\n",
       "      <td>106843</td>\n",
       "      <td>8933</td>\n",
       "    </tr>\n",
       "    <tr>\n",
       "      <th>187</th>\n",
       "      <td>37682949</td>\n",
       "      <td>107514</td>\n",
       "      <td>8944</td>\n",
       "    </tr>\n",
       "  </tbody>\n",
       "</table>\n",
       "<p>188 rows × 3 columns</p>\n",
       "</div>"
      ],
      "text/plain": [
       "            S       I     R\n",
       "0    37799407       0     0\n",
       "1    37799407       0     0\n",
       "2    37799407       0     0\n",
       "3    37799407       0     0\n",
       "4    37799406       1     0\n",
       "..        ...     ...   ...\n",
       "183  37685022  105467  8918\n",
       "184  37684305  106180  8922\n",
       "185  37683950  106529  8928\n",
       "186  37683631  106843  8933\n",
       "187  37682949  107514  8944\n",
       "\n",
       "[188 rows x 3 columns]"
      ]
     },
     "execution_count": 12,
     "metadata": {},
     "output_type": "execute_result"
    }
   ],
   "source": [
    "Training_Set = Training_Set.drop(\"Date\",axis=1)\n",
    "Training_Set = Training_Set.drop(\"T_idx\",axis=1)\n",
    "Training_Set = Training_Set.drop(\"N\",axis=1)\n",
    "Training_Set = Training_Set.drop(\"D\",axis=1)\n",
    "Training_Set"
   ]
  },
  {
   "cell_type": "code",
   "execution_count": 13,
   "id": "ef38ac87",
   "metadata": {},
   "outputs": [],
   "source": [
    "Factor_S_Temp = Training_Set.to_numpy()\n",
    "Factor_S = max(Factor_S_Temp[:,0])-min(Factor_S_Temp[:,0])"
   ]
  },
  {
   "cell_type": "code",
   "execution_count": 14,
   "id": "5923848a",
   "metadata": {},
   "outputs": [],
   "source": [
    "Factor_I_Temp = Training_Set.to_numpy()\n",
    "Factor_I = max(Factor_I_Temp[:,1])-min(Factor_I_Temp[:,1])"
   ]
  },
  {
   "cell_type": "code",
   "execution_count": 15,
   "id": "c956fb8a",
   "metadata": {},
   "outputs": [],
   "source": [
    "Factor_R_Temp = Training_Set.to_numpy()\n",
    "Factor_R = max(Factor_R_Temp[:,2])-min(Factor_R_Temp[:,2])"
   ]
  },
  {
   "cell_type": "markdown",
   "id": "d4b4ca89",
   "metadata": {},
   "source": [
    "## Factor S"
   ]
  },
  {
   "cell_type": "code",
   "execution_count": 16,
   "id": "3e169f03",
   "metadata": {},
   "outputs": [
    {
     "data": {
      "text/plain": [
       "116458"
      ]
     },
     "execution_count": 16,
     "metadata": {},
     "output_type": "execute_result"
    }
   ],
   "source": [
    "Factor_S"
   ]
  },
  {
   "cell_type": "markdown",
   "id": "bc0cef16",
   "metadata": {},
   "source": [
    "## Factor I"
   ]
  },
  {
   "cell_type": "code",
   "execution_count": 17,
   "id": "47b32a24",
   "metadata": {},
   "outputs": [
    {
     "data": {
      "text/plain": [
       "107514"
      ]
     },
     "execution_count": 17,
     "metadata": {},
     "output_type": "execute_result"
    }
   ],
   "source": [
    "Factor_I"
   ]
  },
  {
   "cell_type": "markdown",
   "id": "66bf527b",
   "metadata": {},
   "source": [
    "## Factor R"
   ]
  },
  {
   "cell_type": "code",
   "execution_count": 18,
   "id": "599b2bc2",
   "metadata": {},
   "outputs": [
    {
     "data": {
      "text/plain": [
       "8944"
      ]
     },
     "execution_count": 18,
     "metadata": {},
     "output_type": "execute_result"
    }
   ],
   "source": [
    "Factor_R"
   ]
  },
  {
   "cell_type": "markdown",
   "id": "28e133e4",
   "metadata": {},
   "source": [
    "## Normalizing the data"
   ]
  },
  {
   "cell_type": "code",
   "execution_count": 19,
   "id": "f17a0111",
   "metadata": {},
   "outputs": [],
   "source": [
    "Normalizing = MinMaxScaler()\n",
    "training_data = Normalizing.fit_transform(Training_Set)"
   ]
  },
  {
   "cell_type": "markdown",
   "id": "783db194",
   "metadata": {
    "colab_type": "text",
    "id": "NabsV8O5BBd5"
   },
   "source": [
    "## Dataloading"
   ]
  },
  {
   "cell_type": "markdown",
   "id": "b605d224",
   "metadata": {},
   "source": [
    "## We will be using a sliding time window approach. So, preparing the data for that."
   ]
  },
  {
   "cell_type": "markdown",
   "id": "223f69d2",
   "metadata": {},
   "source": [
    "## The Sliding_Time_Windows(data, Sequence_Length) function will create each data points for training the neural networks (Both LSTM and PINNs)"
   ]
  },
  {
   "cell_type": "markdown",
   "id": "b42ec04c",
   "metadata": {},
   "source": [
    "## Each data point consist of k days of data (stored in x) and the data of $(k+1)^{th}$ day as the target variable (stored in y). In the code, we have used k = Sequence_Length.\n",
    "## NOTE: We are having three variables S, I and R in the data"
   ]
  },
  {
   "cell_type": "code",
   "execution_count": 20,
   "id": "61f102c5",
   "metadata": {},
   "outputs": [],
   "source": [
    "def Sliding_Time_Windows(Data, Seq_Length):\n",
    "\n",
    "    x = []\n",
    "    y = []\n",
    "\n",
    "    for i in range(len(Data)-Seq_Length-1):\n",
    "        x_temp = Data[i:(i+Seq_Length),:]\n",
    "        y_temp = Data[i+Seq_Length,:]\n",
    "        x.append(x_temp)\n",
    "        y.append(y_temp)\n",
    "\n",
    "    return np.array(x),np.array(y)"
   ]
  },
  {
   "cell_type": "markdown",
   "id": "9cdea9a1",
   "metadata": {},
   "source": [
    "# Declaring the value of k (Sequence_Length)"
   ]
  },
  {
   "cell_type": "code",
   "execution_count": 21,
   "id": "c1893a34",
   "metadata": {},
   "outputs": [],
   "source": [
    "Sequence_Length = 4\n",
    "x, y = Sliding_Time_Windows(training_data, Sequence_Length)"
   ]
  },
  {
   "cell_type": "markdown",
   "id": "c327b3b5",
   "metadata": {},
   "source": [
    "## Shape of the data"
   ]
  },
  {
   "cell_type": "code",
   "execution_count": 22,
   "id": "0f922880",
   "metadata": {},
   "outputs": [
    {
     "data": {
      "text/plain": [
       "(183, 4, 3)"
      ]
     },
     "execution_count": 22,
     "metadata": {},
     "output_type": "execute_result"
    }
   ],
   "source": [
    "x.shape"
   ]
  },
  {
   "cell_type": "markdown",
   "id": "d4a5a990",
   "metadata": {},
   "source": [
    "## Shape of the target variable"
   ]
  },
  {
   "cell_type": "code",
   "execution_count": 23,
   "id": "d512ff97",
   "metadata": {},
   "outputs": [
    {
     "data": {
      "text/plain": [
       "(183, 3)"
      ]
     },
     "execution_count": 23,
     "metadata": {},
     "output_type": "execute_result"
    }
   ],
   "source": [
    "y.shape"
   ]
  },
  {
   "cell_type": "markdown",
   "id": "199a23ea",
   "metadata": {},
   "source": [
    "## Splitting the data into training set and test set"
   ]
  },
  {
   "cell_type": "markdown",
   "id": "3ccf7d58",
   "metadata": {},
   "source": [
    "## Amount of data used for training"
   ]
  },
  {
   "cell_type": "code",
   "execution_count": 24,
   "id": "8d80177d",
   "metadata": {},
   "outputs": [],
   "source": [
    "Training_Data_Amount = 0.67"
   ]
  },
  {
   "cell_type": "code",
   "execution_count": 25,
   "id": "dac9ff55",
   "metadata": {},
   "outputs": [],
   "source": [
    "train_size = int(len(y) * Training_Data_Amount)\n",
    "test_size = len(y) - train_size"
   ]
  },
  {
   "cell_type": "markdown",
   "id": "3e777370",
   "metadata": {},
   "source": [
    "## Converting the data to the tensors and creating the training set as well as test set"
   ]
  },
  {
   "cell_type": "code",
   "execution_count": 26,
   "id": "edce5c2b",
   "metadata": {},
   "outputs": [],
   "source": [
    "Data_X = Variable(torch.Tensor(np.array(x)))\n",
    "Data_Y = Variable(torch.Tensor(np.array(y)))"
   ]
  },
  {
   "cell_type": "code",
   "execution_count": 27,
   "id": "d44e4d4d",
   "metadata": {},
   "outputs": [],
   "source": [
    "Train_X = Variable(torch.Tensor(np.array(x[0:train_size])))\n",
    "Train_Y = Variable(torch.Tensor(np.array(y[0:train_size])))"
   ]
  },
  {
   "cell_type": "code",
   "execution_count": 28,
   "id": "c10c688e",
   "metadata": {},
   "outputs": [],
   "source": [
    "Test_X = Variable(torch.Tensor(np.array(x[train_size:len(x)])))\n",
    "Test_Y = Variable(torch.Tensor(np.array(y[train_size:len(y)])))"
   ]
  },
  {
   "cell_type": "markdown",
   "id": "21b4ad1a",
   "metadata": {},
   "source": [
    "## Plotting the actual data"
   ]
  },
  {
   "cell_type": "code",
   "execution_count": 29,
   "id": "9e96f213",
   "metadata": {},
   "outputs": [
    {
     "data": {
      "image/png": "[encoded data removed]",
      "text/plain": [
       "<Figure size 640x480 with 1 Axes>"
      ]
     },
     "metadata": {},
     "output_type": "display_data"
    }
   ],
   "source": [
    "dataY_plot = Data_Y.data.numpy()\n",
    "plt.plot(dataY_plot)\n",
    "plt.axvline(x=train_size, c='g', linestyle='--')\n",
    "plt.suptitle('Actual Data')\n",
    "plt.title('Country: Canada')\n",
    "plt.legend([\"S\",\"I\",\"R\",\"Training data\"])\n",
    "plt.xlabel(\"Days\")\n",
    "plt.ylabel(\"Normalized value of the variables\")\n",
    "plt.show()"
   ]
  },
  {
   "cell_type": "markdown",
   "id": "ce25045a",
   "metadata": {},
   "source": [
    "## Creating an LSTM class for the LSTM network"
   ]
  },
  {
   "cell_type": "code",
   "execution_count": 30,
   "id": "8ba7af82",
   "metadata": {
    "colab": {},
    "colab_type": "code",
    "id": "_BcDEjcABRVz"
   },
   "outputs": [],
   "source": [
    "class LSTM(nn.Module):\n",
    "    def __init__(self, Size_Of_Inputs, Neurons_in_LSTM_Layer, Num_Layers, Size_Of_Outputs):\n",
    "        super(LSTM, self).__init__()\n",
    "        self.Neurons_in_LSTM_Layer = Neurons_in_LSTM_Layer\n",
    "        self.Num_Layers = Num_Layers\n",
    "        self.lstm = nn.LSTM(Size_Of_Inputs, Neurons_in_LSTM_Layer, Num_Layers, batch_first=True)\n",
    "        self.FC = nn.Linear(Neurons_in_LSTM_Layer, Size_Of_Outputs)\n",
    "\n",
    "    def forward(self, X):\n",
    "        H0 = torch.zeros(self.Num_Layers, X.size(0), self.Neurons_in_LSTM_Layer).to(X.device)\n",
    "        C0 = torch.zeros(self.Num_Layers, X.size(0), self.Neurons_in_LSTM_Layer).to(X.device)\n",
    "        OUT, _ = self.lstm(X, (H0, C0))\n",
    "        OUT = self.FC(OUT[:, -1, :])\n",
    "        return OUT"
   ]
  },
  {
   "cell_type": "markdown",
   "id": "44cd5e70",
   "metadata": {},
   "source": [
    "## Size of the input (It should be 3 because we have three variables S, I and R)"
   ]
  },
  {
   "cell_type": "code",
   "execution_count": 31,
   "id": "fe3aacce",
   "metadata": {},
   "outputs": [],
   "source": [
    "input_size = 3"
   ]
  },
  {
   "cell_type": "markdown",
   "id": "6ece34f5",
   "metadata": {},
   "source": [
    "## Size of the output (It should be 3 because we want to predict three variables S, I and R)"
   ]
  },
  {
   "cell_type": "code",
   "execution_count": 32,
   "id": "59c801d2",
   "metadata": {},
   "outputs": [],
   "source": [
    "output_size = 3"
   ]
  },
  {
   "cell_type": "markdown",
   "id": "1142064a",
   "metadata": {},
   "source": [
    "## Number of the LSTM layers to be used"
   ]
  },
  {
   "cell_type": "code",
   "execution_count": 33,
   "id": "3968667f",
   "metadata": {},
   "outputs": [],
   "source": [
    "Num_LSTM_Layers = 2"
   ]
  },
  {
   "cell_type": "markdown",
   "id": "eb299756",
   "metadata": {},
   "source": [
    "## Number of neurons in LSTM layer"
   ]
  },
  {
   "cell_type": "code",
   "execution_count": 34,
   "id": "c2ad0ef1",
   "metadata": {},
   "outputs": [],
   "source": [
    "Num_Neurons_LSTM_Layer = 20"
   ]
  },
  {
   "cell_type": "markdown",
   "id": "bdd63ec6",
   "metadata": {},
   "source": [
    "## Creating the LSTM network"
   ]
  },
  {
   "cell_type": "code",
   "execution_count": 35,
   "id": "3c13c2ef",
   "metadata": {},
   "outputs": [],
   "source": [
    "LSTM_model = LSTM(input_size,Num_Neurons_LSTM_Layer,Num_LSTM_Layers,output_size)"
   ]
  },
  {
   "cell_type": "markdown",
   "id": "46e0ce16",
   "metadata": {},
   "source": [
    "## Loss function for the LSTM network"
   ]
  },
  {
   "cell_type": "code",
   "execution_count": 36,
   "id": "e9f3cd24",
   "metadata": {},
   "outputs": [],
   "source": [
    "Loss_Function = nn.MSELoss()\n",
    "# Loss_Function = nn.L1Loss()"
   ]
  },
  {
   "cell_type": "markdown",
   "id": "c0a5e7e7",
   "metadata": {},
   "source": [
    "## Learning Rate"
   ]
  },
  {
   "cell_type": "code",
   "execution_count": 37,
   "id": "02f091ee",
   "metadata": {},
   "outputs": [],
   "source": [
    "Learning_Rate = 0.0001"
   ]
  },
  {
   "cell_type": "markdown",
   "id": "61e853ff",
   "metadata": {},
   "source": [
    "## Optimizer for LSTM network"
   ]
  },
  {
   "cell_type": "code",
   "execution_count": 38,
   "id": "8fa4cf5c",
   "metadata": {},
   "outputs": [],
   "source": [
    "optimizer = optim.Adam(LSTM_model.parameters(), lr=Learning_Rate)"
   ]
  },
  {
   "cell_type": "markdown",
   "id": "4411c8c4",
   "metadata": {},
   "source": [
    "## Training the LSTM model"
   ]
  },
  {
   "cell_type": "markdown",
   "id": "d04da438",
   "metadata": {},
   "source": [
    "## Number of the epochs"
   ]
  },
  {
   "cell_type": "code",
   "execution_count": 39,
   "id": "e7bf9e38",
   "metadata": {},
   "outputs": [],
   "source": [
    "Num_Epochs = 14000"
   ]
  },
  {
   "cell_type": "code",
   "execution_count": 40,
   "id": "18acd1e0",
   "metadata": {
    "scrolled": false
   },
   "outputs": [
    {
     "name": "stdout",
     "output_type": "stream",
     "text": [
      "Number of epochs: 0\n",
      "Loss: 0.33874133229255676\n",
      "\n",
      "Number of epochs: 250\n",
      "Loss: 0.13133107125759125\n",
      "\n",
      "Number of epochs: 500\n",
      "Loss: 0.05780916288495064\n",
      "\n",
      "Number of epochs: 750\n",
      "Loss: 0.04018811881542206\n",
      "\n",
      "Number of epochs: 1000\n",
      "Loss: 0.004352519288659096\n",
      "\n",
      "Number of epochs: 1250\n",
      "Loss: 0.0009548240923322737\n",
      "\n",
      "Number of epochs: 1500\n",
      "Loss: 0.0008291841368190944\n",
      "\n",
      "Number of epochs: 1750\n",
      "Loss: 0.0007727380725555122\n",
      "\n",
      "Number of epochs: 2000\n",
      "Loss: 0.0007208723109215498\n",
      "\n",
      "Number of epochs: 2250\n",
      "Loss: 0.0006698743673041463\n",
      "\n",
      "Number of epochs: 2500\n",
      "Loss: 0.0006189357955008745\n",
      "\n",
      "Number of epochs: 2750\n",
      "Loss: 0.0005670988466590643\n",
      "\n",
      "Number of epochs: 3000\n",
      "Loss: 0.0005131550715304911\n",
      "\n",
      "Number of epochs: 3250\n",
      "Loss: 0.0004558018990792334\n",
      "\n",
      "Number of epochs: 3500\n",
      "Loss: 0.00039410762838087976\n",
      "\n",
      "Number of epochs: 3750\n",
      "Loss: 0.0003283419064246118\n",
      "\n",
      "Number of epochs: 4000\n",
      "Loss: 0.0002610369410831481\n",
      "\n",
      "Number of epochs: 4250\n",
      "Loss: 0.00019779613649006933\n",
      "\n",
      "Number of epochs: 4500\n",
      "Loss: 0.00014631815429311246\n",
      "\n",
      "Number of epochs: 4750\n",
      "Loss: 0.00011162750888615847\n",
      "\n",
      "Number of epochs: 5000\n",
      "Loss: 9.131324623012915e-05\n",
      "\n",
      "Number of epochs: 5250\n",
      "Loss: 7.869250111980364e-05\n",
      "\n",
      "Number of epochs: 5500\n",
      "Loss: 6.908913201186806e-05\n",
      "\n",
      "Number of epochs: 5750\n",
      "Loss: 6.0796039178967476e-05\n",
      "\n",
      "Number of epochs: 6000\n",
      "Loss: 5.337798938853666e-05\n",
      "\n",
      "Number of epochs: 6250\n",
      "Loss: 4.671012356993742e-05\n",
      "\n",
      "Number of epochs: 6500\n",
      "Loss: 4.073369564139284e-05\n",
      "\n",
      "Number of epochs: 6750\n",
      "Loss: 3.541539263096638e-05\n",
      "\n",
      "Number of epochs: 7000\n",
      "Loss: 3.073656262131408e-05\n",
      "\n",
      "Number of epochs: 7250\n",
      "Loss: 2.6687668650993146e-05\n",
      "\n",
      "Number of epochs: 7500\n",
      "Loss: 2.3263901312020607e-05\n",
      "\n",
      "Number of epochs: 7750\n",
      "Loss: 2.0457788195926696e-05\n",
      "\n",
      "Number of epochs: 8000\n",
      "Loss: 1.8243948943563737e-05\n",
      "\n",
      "Number of epochs: 8250\n",
      "Loss: 1.6561258235014975e-05\n",
      "\n",
      "Number of epochs: 8500\n",
      "Loss: 1.5312400137190707e-05\n",
      "\n",
      "Number of epochs: 8750\n",
      "Loss: 1.4388502677320503e-05\n",
      "\n",
      "Number of epochs: 9000\n",
      "Loss: 1.3696830137632787e-05\n",
      "\n",
      "Number of epochs: 9250\n",
      "Loss: 1.3168874829716515e-05\n",
      "\n",
      "Number of epochs: 9500\n",
      "Loss: 1.2750168934871908e-05\n",
      "\n",
      "Number of epochs: 9750\n",
      "Loss: 1.2392791177262552e-05\n",
      "\n",
      "Number of epochs: 10000\n",
      "Loss: 1.2058607353537809e-05\n",
      "\n",
      "Number of epochs: 10250\n",
      "Loss: 1.17236204459914e-05\n",
      "\n",
      "Number of epochs: 10500\n",
      "Loss: 1.1382241609680932e-05\n",
      "\n",
      "Number of epochs: 10750\n",
      "Loss: 1.1035540410375688e-05\n",
      "\n",
      "Number of epochs: 11000\n",
      "Loss: 1.0703335647122003e-05\n",
      "\n",
      "Number of epochs: 11250\n",
      "Loss: 1.038765549310483e-05\n",
      "\n",
      "Number of epochs: 11500\n",
      "Loss: 1.0093542186950799e-05\n",
      "\n",
      "Number of epochs: 11750\n",
      "Loss: 9.824770131672267e-06\n",
      "\n",
      "Number of epochs: 12000\n",
      "Loss: 9.582920938555617e-06\n",
      "\n",
      "Number of epochs: 12250\n",
      "Loss: 9.360774129163474e-06\n",
      "\n",
      "Number of epochs: 12500\n",
      "Loss: 9.151702215604018e-06\n",
      "\n",
      "Number of epochs: 12750\n",
      "Loss: 8.951049494498875e-06\n",
      "\n",
      "Number of epochs: 13000\n",
      "Loss: 8.75541263667401e-06\n",
      "\n",
      "Number of epochs: 13250\n",
      "Loss: 8.566971700929571e-06\n",
      "\n",
      "Number of epochs: 13500\n",
      "Loss: 8.38869709696155e-06\n",
      "\n",
      "Number of epochs: 13750\n",
      "Loss: 8.216467904276215e-06\n",
      "\n"
     ]
    }
   ],
   "source": [
    "torch.manual_seed(0)\n",
    "for epoch in range(Num_Epochs):\n",
    "    Outputs = LSTM_model(Train_X)\n",
    "    optimizer.zero_grad()  \n",
    "    loss = Loss_Function(Outputs, Train_Y)\n",
    "    loss.backward()\n",
    "    optimizer.step()\n",
    "    if epoch % 250 == 0:\n",
    "        print(f\"Number of epochs: {epoch}\\nLoss: {loss.item()}\\n\")"
   ]
  },
  {
   "cell_type": "markdown",
   "id": "d5a28900",
   "metadata": {},
   "source": [
    "## Comparing the actual data with the predicted data on the test dataset"
   ]
  },
  {
   "cell_type": "code",
   "execution_count": 41,
   "id": "deda64a5",
   "metadata": {},
   "outputs": [],
   "source": [
    "def Time_Step_Update(outputs,Train_X):\n",
    "    outputs = outputs.unsqueeze(1)\n",
    "    Train_X_clone = Train_X.clone().detach()\n",
    "    Train_X_clone_1 = Train_X_clone[:,1:,:]\n",
    "    temp = torch.cat((Train_X_clone_1,outputs),dim = 1)\n",
    "    return temp"
   ]
  },
  {
   "cell_type": "code",
   "execution_count": 42,
   "id": "1f710c7f",
   "metadata": {},
   "outputs": [],
   "source": [
    "LSTM_model.eval()\n",
    "Data_LSTM = Test_X\n",
    "Future_len = 10\n",
    "for i in range(Future_len):\n",
    "    train_predict_LSTM = LSTM_model(Data_LSTM)\n",
    "    Data_LSTM = Time_Step_Update(train_predict_LSTM,Data_LSTM)"
   ]
  },
  {
   "cell_type": "code",
   "execution_count": 43,
   "id": "fd7ce044",
   "metadata": {},
   "outputs": [],
   "source": [
    "data_predict_LSTM = train_predict_LSTM.data.numpy()\n",
    "dataY_plot = Test_Y.data.numpy()"
   ]
  },
  {
   "cell_type": "code",
   "execution_count": 44,
   "id": "8d74ebdd",
   "metadata": {},
   "outputs": [
    {
     "data": {
      "image/png": "[encoded data removed]",
      "text/plain": [
       "<Figure size 640x480 with 1 Axes>"
      ]
     },
     "metadata": {},
     "output_type": "display_data"
    }
   ],
   "source": [
    "plt.plot(data_predict_LSTM,linestyle= \"-.\")\n",
    "plt.plot(dataY_plot[Future_len:,:])\n",
    "plt.legend([\"LSTM S\",\"LSTM I\",\"LSTM R\",\"S\",\"I\",\"R\"])\n",
    "plt.title('Time-Series Forecasting')\n",
    "plt.xlabel(\"Days\")\n",
    "plt.ylabel(\"Normalized values\")\n",
    "plt.grid()\n",
    "plt.savefig(\"LSTM.png\")\n",
    "plt.show()"
   ]
  },
  {
   "cell_type": "markdown",
   "id": "39ef3a2f",
   "metadata": {},
   "source": [
    "## Saving the parameters of LSTM Model"
   ]
  },
  {
   "cell_type": "code",
   "execution_count": 45,
   "id": "12f7d114",
   "metadata": {},
   "outputs": [],
   "source": [
    "torch.save(LSTM_model,f\"LSTM_MSE_LR_{Learning_Rate}_Epochs_{epoch}\\\n",
    "_seq_{Sequence_Length}_train_amount_{Training_Data_Amount}_Num_LSTM_Layers_\\\n",
    "{Num_LSTM_Layers}_Num_Neurons_LSTM_Layer_{Num_Neurons_LSTM_Layer}_.pth\")"
   ]
  },
  {
   "cell_type": "markdown",
   "id": "f765f6e3",
   "metadata": {},
   "source": [
    "*********************************"
   ]
  },
  {
   "cell_type": "markdown",
   "id": "87979487",
   "metadata": {},
   "source": [
    "# Physics Informed Neural Network (PINN)"
   ]
  },
  {
   "cell_type": "markdown",
   "id": "06155542",
   "metadata": {},
   "source": [
    "## Defining the Custom loss function for PINN (L1 Loss)"
   ]
  },
  {
   "cell_type": "code",
   "execution_count": 46,
   "id": "813fc278",
   "metadata": {},
   "outputs": [],
   "source": [
    "def PINN_Loss_Function_SIR_L1(outputs, inputs, a, b, Factor_N, Factor_S, Factor_I, Factor_R):\n",
    "    \n",
    "    # Define model inputs\n",
    "    S = inputs[:, 0]\n",
    "    I = inputs[:, 1]\n",
    "    R = inputs[:, 2]\n",
    "\n",
    "    # Define model outputs\n",
    "    S_pred = outputs[:,0]\n",
    "    I_pred = outputs[:,1]\n",
    "    R_pred = outputs[:,2]\n",
    "\n",
    "    # Compute differential equations using the original values\n",
    "    dS_dt = (-a*S*I*Factor_I)/Factor_N\n",
    "    dI_dt = (a*S*I*Factor_S)/Factor_N - b*I\n",
    "    dR_dt = (b*I*Factor_I/Factor_R)\n",
    "\n",
    "    # Compute differential equations using the predicted values\n",
    "    dS_dt_pred = (-a*S_pred*I_pred*Factor_I)/Factor_N\n",
    "    dI_dt_pred = (a*S_pred*I_pred*Factor_S)/Factor_N - b*I_pred\n",
    "    dR_dt_pred = (b*I_pred*Factor_I/Factor_R)\n",
    "    \n",
    "    # Compute loss function\n",
    "    loss = (torch.mean(torch.abs((dS_dt_pred - dS_dt))) + \\\n",
    "           torch.mean(torch.abs((dI_dt_pred - dI_dt)*(Factor_I/Factor_S))) + \\\n",
    "           torch.mean(torch.abs((dR_dt_pred - dR_dt)*(Factor_R/Factor_S)))) + \\\n",
    "           torch.mean(torch.abs(S_pred - S)) + \\\n",
    "           torch.mean(torch.abs((I_pred - I)*(Factor_I/Factor_S))) + \\\n",
    "           torch.mean(torch.abs((R_pred - R)*(Factor_R/Factor_S)))\n",
    "\n",
    "    return loss"
   ]
  },
  {
   "cell_type": "markdown",
   "id": "a9e236dc",
   "metadata": {},
   "source": [
    "## Defining the Custom loss function for PINN (MSE Loss)"
   ]
  },
  {
   "cell_type": "code",
   "execution_count": 47,
   "id": "4cc6f824",
   "metadata": {},
   "outputs": [],
   "source": [
    "def PINN_Loss_Function_SIR_MSE(outputs, inputs,a,b,Factor_N,Factor_S,Factor_I,Factor_R):\n",
    "    \n",
    "    # Define model inputs\n",
    "    S = inputs[:, 0]\n",
    "    I = inputs[:, 1]\n",
    "    R = inputs[:, 2]\n",
    "\n",
    "    # Define model outputs\n",
    "    S_pred = outputs[:,0]\n",
    "    I_pred = outputs[:,1]\n",
    "    R_pred = outputs[:,2]\n",
    "\n",
    "    # Compute differential equations using the original values\n",
    "    dS_dt = (-a*S*I*Factor_I)/Factor_N\n",
    "    dI_dt = (a*S*I*Factor_S)/Factor_N - b*I\n",
    "    dR_dt = (b*I*Factor_I/Factor_R)\n",
    "\n",
    "    # Compute differential equations using the predicted values\n",
    "    dS_dt_pred = (-a*S_pred*I_pred*Factor_I)/Factor_N\n",
    "    dI_dt_pred = (a*S_pred*I_pred*Factor_S)/Factor_N - b*I_pred\n",
    "    dR_dt_pred = (b*I_pred*Factor_I/Factor_R)\n",
    "    \n",
    "    # Compute loss function\n",
    "    loss = (torch.mean(torch.square((dS_dt_pred - dS_dt))) + \\\n",
    "           torch.mean(torch.square((dI_dt_pred - dI_dt)*(Factor_I/Factor_S)**2)) + \\\n",
    "           torch.mean(torch.square((dR_dt_pred - dR_dt)*(Factor_R/Factor_S)**2))) + \\\n",
    "           torch.mean(torch.square(S_pred - S)) + \\\n",
    "           torch.mean(torch.square((I_pred - I)*(Factor_I/Factor_S)**2)) + \\\n",
    "           torch.mean(torch.square((R_pred - R)*(Factor_R/Factor_S)**2))\n",
    "\n",
    "    return loss"
   ]
  },
  {
   "cell_type": "markdown",
   "id": "d29de050",
   "metadata": {},
   "source": [
    "## Creating the PINN"
   ]
  },
  {
   "cell_type": "code",
   "execution_count": 48,
   "id": "92772c52",
   "metadata": {},
   "outputs": [],
   "source": [
    "Physics_Informed_model = LSTM(input_size,Num_Neurons_LSTM_Layer,Num_LSTM_Layers,output_size)"
   ]
  },
  {
   "cell_type": "markdown",
   "id": "4873ac88",
   "metadata": {},
   "source": [
    "## Optimizer for PINN"
   ]
  },
  {
   "cell_type": "code",
   "execution_count": 49,
   "id": "80c6c5ec",
   "metadata": {},
   "outputs": [],
   "source": [
    "optimizer = optim.Adam(Physics_Informed_model.parameters(), lr=Learning_Rate)"
   ]
  },
  {
   "cell_type": "markdown",
   "id": "8c7ac465",
   "metadata": {},
   "source": [
    "## Training the PINN model"
   ]
  },
  {
   "cell_type": "markdown",
   "id": "8f9968d2",
   "metadata": {},
   "source": [
    "## Number of the epochs"
   ]
  },
  {
   "cell_type": "code",
   "execution_count": 50,
   "id": "1a42efdf",
   "metadata": {},
   "outputs": [],
   "source": [
    "Num_Epochs = 10000"
   ]
  },
  {
   "cell_type": "markdown",
   "id": "4d6a79bf",
   "metadata": {},
   "source": [
    "## Infection rate"
   ]
  },
  {
   "cell_type": "code",
   "execution_count": 51,
   "id": "e1cc50dc",
   "metadata": {},
   "outputs": [],
   "source": [
    "a = 0.03"
   ]
  },
  {
   "cell_type": "markdown",
   "id": "0835a7ec",
   "metadata": {},
   "source": [
    "## Recovery rate"
   ]
  },
  {
   "cell_type": "code",
   "execution_count": 52,
   "id": "9f100662",
   "metadata": {},
   "outputs": [],
   "source": [
    "b = 0.00005"
   ]
  },
  {
   "cell_type": "code",
   "execution_count": 53,
   "id": "166202c1",
   "metadata": {
    "scrolled": false
   },
   "outputs": [
    {
     "name": "stdout",
     "output_type": "stream",
     "text": [
      "Number of epochs: 0\n",
      "Loss: 0.496025949716568\n",
      "\n",
      "Number of epochs: 250\n",
      "Loss: 0.13331173360347748\n",
      "\n",
      "Number of epochs: 500\n",
      "Loss: 0.08797959238290787\n",
      "\n",
      "Number of epochs: 750\n",
      "Loss: 0.05752529203891754\n",
      "\n",
      "Number of epochs: 1000\n",
      "Loss: 0.007950923405587673\n",
      "\n",
      "Number of epochs: 1250\n",
      "Loss: 0.0008450091700069606\n",
      "\n",
      "Number of epochs: 1500\n",
      "Loss: 0.0007011437555775046\n",
      "\n",
      "Number of epochs: 1750\n",
      "Loss: 0.0006358582759276032\n",
      "\n",
      "Number of epochs: 2000\n",
      "Loss: 0.0005953919026069343\n",
      "\n",
      "Number of epochs: 2250\n",
      "Loss: 0.0005649508093483746\n",
      "\n",
      "Number of epochs: 2500\n",
      "Loss: 0.0005375672481022775\n",
      "\n",
      "Number of epochs: 2750\n",
      "Loss: 0.0005105331656523049\n",
      "\n",
      "Number of epochs: 3000\n",
      "Loss: 0.00048307463293895125\n",
      "\n",
      "Number of epochs: 3250\n",
      "Loss: 0.0004551461315713823\n",
      "\n",
      "Number of epochs: 3500\n",
      "Loss: 0.0004269155324436724\n",
      "\n",
      "Number of epochs: 3750\n",
      "Loss: 0.0003985800431109965\n",
      "\n",
      "Number of epochs: 4000\n",
      "Loss: 0.0003703096299432218\n",
      "\n",
      "Number of epochs: 4250\n",
      "Loss: 0.0003422235604375601\n",
      "\n",
      "Number of epochs: 4500\n",
      "Loss: 0.000314387958496809\n",
      "\n",
      "Number of epochs: 4750\n",
      "Loss: 0.00028681644471362233\n",
      "\n",
      "Number of epochs: 5000\n",
      "Loss: 0.00025947910035029054\n",
      "\n",
      "Number of epochs: 5250\n",
      "Loss: 0.00023231731029227376\n",
      "\n",
      "Number of epochs: 5500\n",
      "Loss: 0.0002052657655440271\n",
      "\n",
      "Number of epochs: 5750\n",
      "Loss: 0.00017828785348683596\n",
      "\n",
      "Number of epochs: 6000\n",
      "Loss: 0.00015143690689001232\n",
      "\n",
      "Number of epochs: 6250\n",
      "Loss: 0.00012496545969042927\n",
      "\n",
      "Number of epochs: 6500\n",
      "Loss: 9.949383093044162e-05\n",
      "\n",
      "Number of epochs: 6750\n",
      "Loss: 7.620069663971663e-05\n",
      "\n",
      "Number of epochs: 7000\n",
      "Loss: 5.681904076482169e-05\n",
      "\n",
      "Number of epochs: 7250\n",
      "Loss: 4.302157321944833e-05\n",
      "\n",
      "Number of epochs: 7500\n",
      "Loss: 3.5158387618139386e-05\n",
      "\n",
      "Number of epochs: 7750\n",
      "Loss: 3.166797250742093e-05\n",
      "\n",
      "Number of epochs: 8000\n",
      "Loss: 3.031728192581795e-05\n",
      "\n",
      "Number of epochs: 8250\n",
      "Loss: 2.9667167837033048e-05\n",
      "\n",
      "Number of epochs: 8500\n",
      "Loss: 2.9186010578996502e-05\n",
      "\n",
      "Number of epochs: 8750\n",
      "Loss: 2.8748308977810666e-05\n",
      "\n",
      "Number of epochs: 9000\n",
      "Loss: 2.8331856810837053e-05\n",
      "\n",
      "Number of epochs: 9250\n",
      "Loss: 2.793049679894466e-05\n",
      "\n",
      "Number of epochs: 9500\n",
      "Loss: 2.7538722861208953e-05\n",
      "\n",
      "Number of epochs: 9750\n",
      "Loss: 2.7152456823387183e-05\n",
      "\n"
     ]
    }
   ],
   "source": [
    "torch.manual_seed(0)\n",
    "for epoch in range(Num_Epochs):\n",
    "    outputs = Physics_Informed_model(Train_X)\n",
    "    optimizer.zero_grad()\n",
    "    loss = PINN_Loss_Function_SIR_MSE(outputs, Train_Y,a,b,Factor_N,Factor_S,Factor_I,Factor_R)\n",
    "    # loss = PINN_Loss_Function_SIR_L1(outputs, Train_Y,a,b,Factor_N,Factor_S,Factor_I,Factor_R)\n",
    "    loss.backward()\n",
    "    optimizer.step()\n",
    "    if epoch % 250 == 0:\n",
    "        print(f\"Number of epochs: {epoch}\\nLoss: {loss.item()}\\n\")"
   ]
  },
  {
   "cell_type": "markdown",
   "id": "f8dd0ce7",
   "metadata": {},
   "source": [
    "## Comparing the actual data with the predicted data on the test dataset"
   ]
  },
  {
   "cell_type": "code",
   "execution_count": 54,
   "id": "5c399b2f",
   "metadata": {},
   "outputs": [],
   "source": [
    "Physics_Informed_model.eval()\n",
    "LSTM_model.eval()\n",
    "Data_PINN = Test_X\n",
    "Data_LSTM = Test_X\n",
    "Future_len = 10\n",
    "for i in range(Future_len):\n",
    "    train_predict_PINN = Physics_Informed_model(Data_PINN)\n",
    "    train_predict_LSTM = LSTM_model(Data_LSTM)\n",
    "    Data_PINN = Time_Step_Update(train_predict_PINN,Data_PINN)\n",
    "    Data_LSTM = Time_Step_Update(train_predict_LSTM,Data_LSTM)"
   ]
  },
  {
   "cell_type": "code",
   "execution_count": 55,
   "id": "7a6832bb",
   "metadata": {},
   "outputs": [],
   "source": [
    "data_predict_PINN = train_predict_PINN.data.numpy()\n",
    "data_predict_LSTM = train_predict_LSTM.data.numpy()\n",
    "dataY_plot = Test_Y.data.numpy()"
   ]
  },
  {
   "cell_type": "code",
   "execution_count": 56,
   "id": "dafbe590",
   "metadata": {},
   "outputs": [
    {
     "data": {
      "image/png": "[encoded data removed]",
      "text/plain": [
       "<Figure size 640x480 with 1 Axes>"
      ]
     },
     "metadata": {},
     "output_type": "display_data"
    }
   ],
   "source": [
    "plt.title('Time-Series Prediction')\n",
    "plt.plot(data_predict_PINN,linestyle= \":\")\n",
    "plt.plot(dataY_plot[Future_len:,:])\n",
    "plt.legend([\"PINN S\",\"PINN I\",\"PINN R\",\"S\",\"I\",\"R\"])\n",
    "plt.xlabel(\"Days\")\n",
    "plt.ylabel(\"Normalized values\")\n",
    "plt.grid()\n",
    "plt.savefig(\"PINN.jpg\")\n",
    "plt.show()"
   ]
  },
  {
   "cell_type": "markdown",
   "id": "0b76bd67",
   "metadata": {},
   "source": [
    "## Saving the parameters of PINN Model"
   ]
  },
  {
   "cell_type": "code",
   "execution_count": 57,
   "id": "e1184003",
   "metadata": {},
   "outputs": [],
   "source": [
    "torch.save(Physics_Informed_model,f\"PINN_MSE_LR_{Learning_Rate}_Epochs_{epoch}\\\n",
    "_seq_{Sequence_Length}_train_amount_{Training_Data_Amount}_Num_LSTM_Layers_\\\n",
    "{Num_LSTM_Layers}_Num_Neurons_LSTM_Layer_{Num_Neurons_LSTM_Layer}_.pth\")"
   ]
  },
  {
   "cell_type": "markdown",
   "id": "0b895181",
   "metadata": {},
   "source": [
    "*****************************************"
   ]
  },
  {
   "cell_type": "markdown",
   "id": "135fef3a",
   "metadata": {},
   "source": [
    "# Comparision of LSTM and PINN"
   ]
  },
  {
   "cell_type": "code",
   "execution_count": 58,
   "id": "3f4388d8",
   "metadata": {},
   "outputs": [
    {
     "data": {
      "image/png": "[encoded data removed]",
      "text/plain": [
       "<Figure size 640x480 with 1 Axes>"
      ]
     },
     "metadata": {},
     "output_type": "display_data"
    }
   ],
   "source": [
    "plt.title('Time-Series Prediction')\n",
    "plt.plot(data_predict_PINN,linestyle= \":\")\n",
    "plt.plot(data_predict_LSTM,linestyle= \"-.\")\n",
    "plt.plot(dataY_plot[Future_len:,:])\n",
    "plt.legend([\"PINN S\",\"PINN I\",\"PINN R\",\"LSTM S\",\"LSTM I\",\"LSTM R\",\"S\",\"I\",\"R\"])\n",
    "plt.xlabel(\"Days\")\n",
    "plt.ylabel(\"Normalized values\")\n",
    "plt.grid()\n",
    "plt.savefig(\"LSTM_vs_PINN.jpg\")\n",
    "plt.show()"
   ]
  },
  {
   "cell_type": "markdown",
   "id": "84eabbf1",
   "metadata": {},
   "source": [
    "************************************************"
   ]
  }
 ],
 "metadata": {
  "kernelspec": {
   "display_name": "Python 3 (ipykernel)",
   "language": "python",
   "name": "python3"
  },
  "language_info": {
   "codemirror_mode": {
    "name": "ipython",
    "version": 3
   },
   "file_extension": ".py",
   "mimetype": "text/x-python",
   "name": "python",
   "nbconvert_exporter": "python",
   "pygments_lexer": "ipython3",
   "version": "3.10.9"
  }
 },
 "nbformat": 4,
 "nbformat_minor": 5
}
